{
 "cells": [
  {
   "cell_type": "code",
   "execution_count": 2,
   "metadata": {},
   "outputs": [
    {
     "name": "stdout",
     "output_type": "stream",
     "text": [
      "10\n",
      "2\n"
     ]
    }
   ],
   "source": [
    "# 파이썬의 모듈 \n",
    "\n",
    "import mod1     # 같은 디렉토리의 mod1.py이라는 모듈 불러오기  (반드시 같은 위치(폴더)에 저장되있어야 호출 가능)\n",
    "\n",
    "print(mod1.add(5,5))\n",
    "print(mod1.sub(4,2))"
   ]
  },
  {
   "cell_type": "code",
   "execution_count": 4,
   "metadata": {},
   "outputs": [
    {
     "data": {
      "text/plain": [
       "7"
      ]
     },
     "execution_count": 4,
     "metadata": {},
     "output_type": "execute_result"
    }
   ],
   "source": [
    "from mod1 import add\n",
    "\n",
    "add(3,4)\n"
   ]
  },
  {
   "cell_type": "code",
   "execution_count": 6,
   "metadata": {},
   "outputs": [
    {
     "name": "stdout",
     "output_type": "stream",
     "text": [
      "7\n",
      "5\n"
     ]
    }
   ],
   "source": [
    "from mod1 import *  #  == from mod1 import add, sub >> *은 모듈의 모든 함수를 사용하겠다는 뜻 \n",
    "\n",
    "print(add(5,2))\n",
    "print(sub(7,2))\n"
   ]
  },
  {
   "cell_type": "code",
   "execution_count": 13,
   "metadata": {},
   "outputs": [
    {
     "name": "stdout",
     "output_type": "stream",
     "text": [
      "3.141592\n",
      "12.566368\n",
      "7.5415920000000005\n"
     ]
    }
   ],
   "source": [
    "import mod2\n",
    "\n",
    "print(mod2.PI)  # 변수 호출\n",
    "\n",
    "a = mod2.Math() # 클래스 호출\n",
    "print(a.solv(2))\n",
    "\n",
    "print(mod2.add(mod2.PI,4.4))    # 함수 호출"
   ]
  },
  {
   "cell_type": "code",
   "execution_count": 16,
   "metadata": {},
   "outputs": [
    {
     "data": {
      "text/plain": [
       "['c:\\\\Users\\\\human-06\\\\elementary\\\\240520',\n",
       " 'c:\\\\Users\\\\human-06\\\\anaconda3\\\\python311.zip',\n",
       " 'c:\\\\Users\\\\human-06\\\\anaconda3\\\\DLLs',\n",
       " 'c:\\\\Users\\\\human-06\\\\anaconda3\\\\Lib',\n",
       " 'c:\\\\Users\\\\human-06\\\\anaconda3',\n",
       " '',\n",
       " 'c:\\\\Users\\\\human-06\\\\anaconda3\\\\Lib\\\\site-packages',\n",
       " 'c:\\\\Users\\\\human-06\\\\anaconda3\\\\Lib\\\\site-packages\\\\win32',\n",
       " 'c:\\\\Users\\\\human-06\\\\anaconda3\\\\Lib\\\\site-packages\\\\win32\\\\lib',\n",
       " 'c:\\\\Users\\\\human-06\\\\anaconda3\\\\Lib\\\\site-packages\\\\Pythonwin',\n",
       " 'C:/Users/human-06/elementary/mod2.py',\n",
       " 'C:/Users/human-06/elementary/mod2.py']"
      ]
     },
     "execution_count": 16,
     "metadata": {},
     "output_type": "execute_result"
    }
   ],
   "source": [
    "# 다른 디렉터리에서 모듈 불러오기\n",
    "\n",
    "import sys\n",
    "\n",
    "sys.path.append('C:/Users/human-06/elementary/mod2.py')\n",
    "sys.path"
   ]
  },
  {
   "cell_type": "code",
   "execution_count": 19,
   "metadata": {},
   "outputs": [
    {
     "name": "stdout",
     "output_type": "stream",
     "text": [
      "7\n"
     ]
    }
   ],
   "source": [
    "import mod2\n",
    "\n",
    "print(mod2.add(3,4))"
   ]
  },
  {
   "cell_type": "code",
   "execution_count": 41,
   "metadata": {},
   "outputs": [
    {
     "name": "stdout",
     "output_type": "stream",
     "text": [
      "응애응애\n",
      "<__main__.Human object at 0x000001C7450CB110>\n"
     ]
    }
   ],
   "source": [
    "# 문제 254\n",
    "class Human():\n",
    "    def __init__(self):\n",
    "        print('응애응애')\n",
    "\n",
    "print(Human())"
   ]
  },
  {
   "cell_type": "code",
   "execution_count": 38,
   "metadata": {},
   "outputs": [
    {
     "name": "stdout",
     "output_type": "stream",
     "text": [
      "25\n"
     ]
    }
   ],
   "source": [
    "# 문제 255\n",
    "class Human():\n",
    "    def __init__(self,name, age, sex):\n",
    "        self.name = name\n",
    "        self.age = age\n",
    "        self.sex = sex\n",
    "\n",
    "    \n",
    "\n",
    "areum = Human('아름', 25, '여자')\n",
    "print(areum.age)\n",
    "    "
   ]
  },
  {
   "cell_type": "code",
   "execution_count": 47,
   "metadata": {},
   "outputs": [
    {
     "name": "stdout",
     "output_type": "stream",
     "text": [
      "이름 : 아름,\t\n",
      "나이 : 25,\t\n",
      "성별 : 여자,\t\n"
     ]
    }
   ],
   "source": [
    "# 문제 256\n",
    "\n",
    "print('이름 : ' + areum.name + ',\\t')\n",
    "print('나이 : ' + str(areum.age) + ',\\t')\n",
    "print('성별 : ' + areum.sex + ',\\t')\n"
   ]
  },
  {
   "cell_type": "code",
   "execution_count": 61,
   "metadata": {},
   "outputs": [
    {
     "name": "stdout",
     "output_type": "stream",
     "text": [
      "이름: 모름, 나이: 0, 성별: 모름\n",
      "이름: 아름, 나이: 25, 성별: 여자\n",
      "나의 죽음을 알리지 말라\n",
      "나의 죽음을 알리지 말라\n"
     ]
    }
   ],
   "source": [
    "class Human():\n",
    "    def __init__(self,name, age, sex):\n",
    "        self.name = name\n",
    "        self.age = age\n",
    "        self.sex = sex\n",
    "    \n",
    "    def who(self):\n",
    "        print(f'이름: {self.name}, 나이: {self.age}, 성별: {self.sex}')\n",
    "    \n",
    "    def setinfo(self,name, age, sex):\n",
    "        self.name = name\n",
    "        self.age = age\n",
    "        self.sex = sex\n",
    "    \n",
    "    def __del__(self):      # 소멸자 메소드\n",
    "        print('나의 죽음을 알리지 말라')\n",
    "\n",
    "    \n",
    "\n",
    "        \n",
    "\n",
    "areum = Human('모름',0,'모름')\n",
    "areum.who()\n",
    "\n",
    "areum.setinfo('아름',25,'여자')\n",
    "areum.who()\n",
    "\n",
    "areum = Human('아름',25,'여자')\n",
    "del areum\n",
    "\n",
    "\n"
   ]
  },
  {
   "cell_type": "code",
   "execution_count": 62,
   "metadata": {},
   "outputs": [],
   "source": [
    "# 문제 261~\n",
    "\n",
    "class Stock:\n",
    "    pass"
   ]
  },
  {
   "cell_type": "code",
   "execution_count": 88,
   "metadata": {},
   "outputs": [
    {
     "name": "stdout",
     "output_type": "stream",
     "text": [
      "005930\n"
     ]
    }
   ],
   "source": [
    "class Stock():\n",
    "    def __init__(self,name,code):\n",
    "        self.name = name\n",
    "        self.code = code\n",
    "    \n",
    "    def set_name(self,name):\n",
    "        self.name = name\n",
    "    \n",
    "    def set_code(self,code):\n",
    "        self.code = code\n",
    "    \n",
    "    def get_name(self, code):\n",
    "        return self.name\n",
    "    \n",
    "    def get_code (self,code):\n",
    "        return self.code\n",
    "\n",
    "\n",
    "# 삼성 = Stock('삼성전자', '005930')\n",
    "\n",
    "a = Stock(None, None)\n",
    "a.set_code('005930')\n",
    "print(a.code)\n",
    "\n"
   ]
  },
  {
   "cell_type": "code",
   "execution_count": 91,
   "metadata": {},
   "outputs": [
    {
     "name": "stdout",
     "output_type": "stream",
     "text": [
      "2.83\n"
     ]
    }
   ],
   "source": [
    "        "
   ]
  },
  {
   "cell_type": "code",
   "execution_count": null,
   "metadata": {},
   "outputs": [],
   "source": [
    "a.set"
   ]
  }
 ],
 "metadata": {
  "kernelspec": {
   "display_name": "base",
   "language": "python",
   "name": "python3"
  },
  "language_info": {
   "codemirror_mode": {
    "name": "ipython",
    "version": 3
   },
   "file_extension": ".py",
   "mimetype": "text/x-python",
   "name": "python",
   "nbconvert_exporter": "python",
   "pygments_lexer": "ipython3",
   "version": "3.11.7"
  }
 },
 "nbformat": 4,
 "nbformat_minor": 2
}
