{
 "cells": [
  {
   "cell_type": "code",
   "execution_count": 3,
   "metadata": {},
   "outputs": [],
   "source": [
    "# 클래스의 상속\n",
    "class FourCal:\n",
    "    def __init__(self, first, second):\n",
    "         self.first = first\n",
    "         self.second = second\n",
    "    def setdata(self, first, second):\n",
    "         self.first = first\n",
    "         self.second = second\n",
    "    def add(self):\n",
    "         result = self.first + self.second\n",
    "         return result\n",
    "    def mul(self):\n",
    "         result = self.first * self.second\n",
    "         return result\n",
    "    def sub(self):\n",
    "         result = self.first - self.second\n",
    "         return result\n",
    "    def div(self):\n",
    "         result = self.first / self.second\n",
    "         return result\n",
    "    \n",
    "class MoreFourCal(FourCal):\n",
    "     pass\n",
    "\n",
    "\n",
    "\n"
   ]
  },
  {
   "cell_type": "code",
   "execution_count": 12,
   "metadata": {},
   "outputs": [
    {
     "name": "stdout",
     "output_type": "stream",
     "text": [
      "6\n",
      "8\n",
      "2\n",
      "2.0\n"
     ]
    }
   ],
   "source": [
    "a = MoreFourCal(4,2)\n",
    "print(a.add())\n",
    "print(a.mul())\n",
    "print(a.sub())\n",
    "print(a.div())"
   ]
  },
  {
   "cell_type": "code",
   "execution_count": 14,
   "metadata": {},
   "outputs": [
    {
     "name": "stdout",
     "output_type": "stream",
     "text": [
      "64\n",
      "7\n"
     ]
    }
   ],
   "source": [
    "# 상속한 클래스의 함수 생성하기\n",
    "class MoreFourCal(FourCal):\n",
    "    def pow(self):\n",
    "        result = self.first ** self.second\n",
    "        return result\n",
    "    \n",
    "a= MoreFourCal(4,3)\n",
    "print(a.pow()) # 4의 3 제곱\n",
    "print(a.add())"
   ]
  },
  {
   "cell_type": "code",
   "execution_count": 17,
   "metadata": {},
   "outputs": [
    {
     "data": {
      "text/plain": [
       "4.0"
      ]
     },
     "execution_count": 17,
     "metadata": {},
     "output_type": "execute_result"
    }
   ],
   "source": [
    "# 메서드 오버라이딩\n",
    "\n",
    "a = FourCal(4,1)\n",
    "# a.div() #0으로는 나눌 수 없음 >> ZeroDivisionError오류 발생\n",
    "a.div()"
   ]
  },
  {
   "cell_type": "code",
   "execution_count": 20,
   "metadata": {},
   "outputs": [
    {
     "name": "stdout",
     "output_type": "stream",
     "text": [
      "0\n"
     ]
    }
   ],
   "source": [
    "class SafeFourCal(FourCal):\n",
    "    def div(self):  # FourCal에 있는 메소드가 없어지고 현재 만들어진 div메소드로 세팅\n",
    "        if self.second == 0:    #나누는 값이 0이면 0반환\n",
    "            return 0\n",
    "        else:\n",
    "            return self.first / self.second\n",
    "        \n",
    "a = SafeFourCal(4,0)\n",
    "print(a.div())"
   ]
  },
  {
   "cell_type": "code",
   "execution_count": 21,
   "metadata": {},
   "outputs": [
    {
     "name": "stdout",
     "output_type": "stream",
     "text": [
      "김\n",
      "김\n",
      "김\n"
     ]
    }
   ],
   "source": [
    "# 클래스 변수(속성[property])\n",
    "class Family:\n",
    "    lastname = '김'\n",
    "\n",
    "print(Family.lastname)\n",
    "\n",
    "a = Family()\n",
    "b = Family()\n",
    "\n",
    "print(a.lastname)\n",
    "print(b.lastname)"
   ]
  },
  {
   "cell_type": "code",
   "execution_count": 23,
   "metadata": {},
   "outputs": [
    {
     "name": "stdout",
     "output_type": "stream",
     "text": [
      "박\n",
      "박\n",
      "박\n"
     ]
    }
   ],
   "source": [
    "Family.lastname = '박'  # class로 만든 경우 클래스 변수 변경시 안의 객체도 변경됨 >> 클래스 변수의 값 변경\n",
    "print(Family.lastname)\n",
    "print(a.lastname)\n",
    "print(b.lastname)"
   ]
  },
  {
   "cell_type": "code",
   "execution_count": 25,
   "metadata": {},
   "outputs": [
    {
     "name": "stdout",
     "output_type": "stream",
     "text": [
      "최\n",
      "박\n"
     ]
    }
   ],
   "source": [
    "# 객체 변수\n",
    "a.lastname = '최'   # 객체 변수의 값을 변경\n",
    "print(a.lastname)   # 객체 변수의 값을 출력\n",
    "print(Family.lastname)  # 클래스 변수의 값을 출력(객체 변수의 변경은 클래스 변수에 영향을 줄 수 없음)"
   ]
  }
 ],
 "metadata": {
  "kernelspec": {
   "display_name": "base",
   "language": "python",
   "name": "python3"
  },
  "language_info": {
   "codemirror_mode": {
    "name": "ipython",
    "version": 3
   },
   "file_extension": ".py",
   "mimetype": "text/x-python",
   "name": "python",
   "nbconvert_exporter": "python",
   "pygments_lexer": "ipython3",
   "version": "3.11.7"
  }
 },
 "nbformat": 4,
 "nbformat_minor": 2
}
