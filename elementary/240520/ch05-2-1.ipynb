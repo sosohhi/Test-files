{
 "cells": [
  {
   "cell_type": "code",
   "execution_count": 5,
   "metadata": {},
   "outputs": [
    {
     "name": "stdout",
     "output_type": "stream",
     "text": [
      "2.83\n",
      "12.75\n"
     ]
    }
   ],
   "source": [
    "class Stock():\n",
    "    def __init__(self,name,code, PER, PBR, gain):\n",
    "        self.name = name\n",
    "        self.code = code\n",
    "        self.PER = float(PER)\n",
    "        self.PBR = float(PBR)\n",
    "        self.gain = float(gain)\n",
    "    \n",
    "    def set_per(self,PER):\n",
    "        self.PER = PER\n",
    "        return self.PER\n",
    "    \n",
    "    def set_pbr(self,PBR):\n",
    "        self.PBR = PBR\n",
    "        return self.PBR\n",
    "    \n",
    "    def set_dividend(self, gain):\n",
    "        self.gain = gain\n",
    "        return self.gain\n",
    "\n",
    "        \n",
    "\n",
    "a = Stock('삼성전자','005930',15.79,1.33,2.83)\n",
    "print(a.gain)\n",
    "a.set_per(12.75)\n",
    "print(a.PER)\n"
   ]
  },
  {
   "cell_type": "code",
   "execution_count": 9,
   "metadata": {},
   "outputs": [
    {
     "name": "stdout",
     "output_type": "stream",
     "text": [
      "005930 15.79\n",
      "005380 8.7\n",
      "066570 317.34\n"
     ]
    }
   ],
   "source": [
    "class Stock():\n",
    "    def __init__(self,name,code, PER, PBR, gain):\n",
    "        self.name = name\n",
    "        self.code = code\n",
    "        self.PER = float(PER)\n",
    "        self.PBR = float(PBR)\n",
    "        self.gain = float(gain)\n",
    "    \n",
    "    def set_per(self,PER):\n",
    "        self.PER = PER\n",
    "        return self.PER\n",
    "    \n",
    "    def set_pbr(self,PBR):\n",
    "        self.PBR = PBR\n",
    "        return self.PBR\n",
    "    \n",
    "    def set_dividend(self, gain):\n",
    "        self.gain = gain\n",
    "        return self.gain\n",
    "\n",
    "\n",
    "\n",
    "\n",
    "list =  []\n",
    "\n",
    "samsung = Stock('삼성전자','005930',15.79,1.33,2.83)\n",
    "hundae = Stock('현대차','005380',8.70,0.35,4.27)\n",
    "LG = Stock('LG전자','066570',317.34,0.69,1.37)\n",
    "\n",
    "\n",
    "list.append(samsung)\n",
    "list.append(hundae)\n",
    "list.append(LG)\n",
    "\n",
    "for i in list:\n",
    "    print(i.code, i.PER)\n",
    "\n"
   ]
  },
  {
   "cell_type": "code",
   "execution_count": 44,
   "metadata": {},
   "outputs": [
    {
     "name": "stdout",
     "output_type": "stream",
     "text": [
      "은행이름: SC은행\n",
      "계좌번호: 628-94-994117\n"
     ]
    }
   ],
   "source": [
    "class Account():\n",
    "    def __init__(self, user, balance):\n",
    "        self.user = user\n",
    "        self.balance = balance\n",
    "        self.bank = 'SC은행'\n",
    "    \n",
    "\n",
    "from random import *\n",
    "\n",
    "no_1 = randint(0,999)\n",
    "no_2 = randint(0,99)\n",
    "no_3 = randint(0,999999)\n",
    "\n",
    "my_account = Account()\n",
    "\n",
    "print('은행이름: ' + my_account.bank)\n",
    "print(f'계좌번호: {no_1}-{no_2}-{no_3}')\n",
    "\n",
    "\n",
    "\n",
    "\n",
    "\n"
   ]
  },
  {
   "cell_type": "code",
   "execution_count": null,
   "metadata": {},
   "outputs": [],
   "source": [
    "class My_account(Account):\n",
    "    def count(self):\n",
    "        result = len(self)"
   ]
  },
  {
   "cell_type": "code",
   "execution_count": 47,
   "metadata": {},
   "outputs": [
    {
     "data": {
      "text/plain": [
       "1000"
      ]
     },
     "execution_count": 47,
     "metadata": {},
     "output_type": "execute_result"
    }
   ],
   "source": [
    "class 차():\n",
    "    def __init__(self, 바퀴, 가격):\n",
    "        self.바퀴 = 바퀴\n",
    "        self.가격 = 가격\n",
    "\n",
    "car = 차(2,1000)\n",
    "car.바퀴\n",
    "car.가격"
   ]
  },
  {
   "cell_type": "code",
   "execution_count": 50,
   "metadata": {},
   "outputs": [
    {
     "data": {
      "text/plain": [
       "100"
      ]
     },
     "execution_count": 50,
     "metadata": {},
     "output_type": "execute_result"
    }
   ],
   "source": [
    "class 자전차(차):\n",
    "    pass\n",
    "bicycle = 자전차(2,100)\n",
    "bicycle.가격"
   ]
  },
  {
   "cell_type": "code",
   "execution_count": null,
   "metadata": {},
   "outputs": [],
   "source": [
    "class 자전차(차):\n",
    "    def __init__(self, 바퀴, 가격,정보):\n",
    "        self.바퀴 = 바퀴\n",
    "        self.가격 = 가격\n",
    "        self.정보 = 정보\n",
    "\n",
    "bicycle = 자전차(2,100,'시마노')\n",
    "bicycle.정보()\n",
    "print(f'')"
   ]
  }
 ],
 "metadata": {
  "kernelspec": {
   "display_name": "base",
   "language": "python",
   "name": "python3"
  },
  "language_info": {
   "codemirror_mode": {
    "name": "ipython",
    "version": 3
   },
   "file_extension": ".py",
   "mimetype": "text/x-python",
   "name": "python",
   "nbconvert_exporter": "python",
   "pygments_lexer": "ipython3",
   "version": "3.11.7"
  }
 },
 "nbformat": 4,
 "nbformat_minor": 2
}
