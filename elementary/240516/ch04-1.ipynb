{
 "cells": [
  {
   "cell_type": "code",
   "execution_count": 9,
   "metadata": {},
   "outputs": [
    {
     "name": "stdout",
     "output_type": "stream",
     "text": [
      "Hello World\n",
      "hi\n",
      "good day\n",
      "12\n"
     ]
    }
   ],
   "source": [
    "# 함수의 구조\n",
    "\n",
    "매개변수는 생략이 가능\n",
    "return값도 생략이 가능\n",
    " def 함수_이름(매개변수):\n",
    "    수행할_문장1\n",
    "    수행할_문장2\n",
    "\n",
    "def test1(): #test함수를 정의하라\n",
    "    print('Hello World')\n",
    "test1()  #test 함수를 실행하라\n",
    "\n",
    "def test2():\n",
    "    print('hi')\n",
    "    print('good day')\n",
    "test2()\n",
    "\n",
    "def add(a,b):\n",
    "    return a+b\n",
    "a = 5\n",
    "b = 7\n",
    "c= add(a,b) #add(3,4)의 리턴값을 c에 대입\n",
    "print(c)\n"
   ]
  },
  {
   "cell_type": "code",
   "execution_count": 10,
   "metadata": {},
   "outputs": [
    {
     "name": "stdout",
     "output_type": "stream",
     "text": [
      "7\n",
      "Hi\n",
      "Hello World\n",
      "None\n"
     ]
    }
   ],
   "source": [
    "def add(a, b):\n",
    "    result = a+b\n",
    "    return result\n",
    "\n",
    "# 번외: camel case(영어에만..) 대소문자\n",
    "# 학생선생님 -> studentTeacher (java, javascript, c++)\n",
    "# 일본어 중국어 -> 띄어쓰기 없음 \n",
    "\n",
    "\n",
    "# snake case\n",
    "# 리턴값을 받을 변수 = 함수이름 (입력인수1, 입력인수2, ...)\n",
    "a = add(3,4)\n",
    "print(a)\n",
    "\n",
    "# 입력값이 없는 함수\n",
    "# 리턴값을 받을 변수 = 함수 이름()\n",
    "def say():\n",
    "    return \"Hi\"\n",
    "\n",
    "a=say()\n",
    "print(a)\n",
    "\n",
    "b = test1()\n",
    "print(b)"
   ]
  },
  {
   "cell_type": "code",
   "execution_count": 13,
   "metadata": {},
   "outputs": [
    {
     "name": "stdout",
     "output_type": "stream",
     "text": [
      "3,4의 값의 합은 7입니다.\n",
      "None\n"
     ]
    }
   ],
   "source": [
    "# 리턴값이 없는 함수\n",
    "def add(a,b):\n",
    "    print(f'{a},{b}의 값의 합은 {a+b}입니다.')\n",
    "\n",
    "c = add(3,4)\n",
    "print(c)"
   ]
  },
  {
   "cell_type": "code",
   "execution_count": 17,
   "metadata": {},
   "outputs": [
    {
     "name": "stdout",
     "output_type": "stream",
     "text": [
      "Hi\n"
     ]
    }
   ],
   "source": [
    "# 입력값도 리턴값도 업는 함수\n",
    "def say():\n",
    "    print('Hi')\n",
    "say()"
   ]
  },
  {
   "cell_type": "code",
   "execution_count": 22,
   "metadata": {},
   "outputs": [
    {
     "name": "stdout",
     "output_type": "stream",
     "text": [
      "4\n"
     ]
    }
   ],
   "source": [
    "# 매개변수를 지정하여 호출하기\n",
    "def sub(a, b):\n",
    "    return a-b\n",
    "\n",
    "result = sub(a=7, b=3)\n",
    "\n",
    "result = sub(b=3, a=7) # 입력값 지정해주면 순서 바꿔서 입력해도 출력\n",
    "print(result)"
   ]
  },
  {
   "cell_type": "code",
   "execution_count": 26,
   "metadata": {},
   "outputs": [
    {
     "name": "stdout",
     "output_type": "stream",
     "text": [
      "3\n",
      "6\n",
      "55\n",
      "15\n",
      "120\n"
     ]
    }
   ],
   "source": [
    "# 입력값이 추가되는 경우 (몇개가 될지 모르는 경우)\n",
    "\n",
    "# def 함수_이름(*매개변수):\n",
    "#     수행할 문장\n",
    "#     ...\n",
    "\n",
    "def add_many(*args):\n",
    "    result = 0 #값 초기화\n",
    "    for i in args:\n",
    "        result +=i\n",
    "    return result\n",
    "\n",
    "# >> sum 함수와 같음\n",
    "\n",
    "a = add_many(1,2)\n",
    "print(a)\n",
    "b= add_many(1,2,3)\n",
    "print(b)\n",
    "c = add_many(1,2,3,4,5,6,7,8,9,10)\n",
    "print(c)\n",
    "\n",
    "def add_mul(choice, *args):\n",
    "    if choice == \"add\":\n",
    "        result = 0\n",
    "        for i in args:\n",
    "            result +=i\n",
    "    elif choice == \"mul\":\n",
    "        result = 1\n",
    "        for i in args:\n",
    "            result *=i\n",
    "    return result\n",
    "\n",
    "result = add_mul('add',1,2,3,4,5)\n",
    "print(result)\n",
    "result = add_mul('mul',1,2,3,4,5)\n",
    "print(result)\n",
    "\n",
    "def add_mul2(*args, choice): # 이렇게 사용하면 안됨//(앞에 디폴트 값 입력)\n",
    "    pass\n"
   ]
  },
  {
   "cell_type": "code",
   "execution_count": 28,
   "metadata": {},
   "outputs": [
    {
     "name": "stdout",
     "output_type": "stream",
     "text": [
      "{'a': 1}\n",
      "{'name': 'foo', 'age': 3}\n"
     ]
    }
   ],
   "source": [
    "# 키워드 매개변수, kwargs (key와 value로 구성된 딕셔너리의 매개변수)\n",
    "def print_kwargs(**kwargs):\n",
    "    print(kwargs)\n",
    "\n",
    "print_kwargs(a=1)\n",
    "print_kwargs(name = 'foo', age=3)"
   ]
  },
  {
   "cell_type": "code",
   "execution_count": 30,
   "metadata": {},
   "outputs": [
    {
     "name": "stdout",
     "output_type": "stream",
     "text": [
      "<class 'tuple'>\n",
      "(7, 12)\n",
      "7\n",
      "12\n"
     ]
    }
   ],
   "source": [
    "# 함수의 리턴값은 언제나 하나의 자료형(리스트, 숫자형 etc)이다.\n",
    "def add_and_mul(a,b):\n",
    "    return a+b, a*b\n",
    "\n",
    "result = add_and_mul(3,4)\n",
    "print(type(result))\n",
    "print(result)\n",
    "\n",
    "result1, result2 = add_and_mul(3,4)\n",
    "print(result1)\n",
    "print(result2)"
   ]
  },
  {
   "cell_type": "code",
   "execution_count": 33,
   "metadata": {},
   "outputs": [
    {
     "name": "stdout",
     "output_type": "stream",
     "text": [
      "5\n"
     ]
    }
   ],
   "source": [
    "# 항상 먼저 나오는 return이 나오면 함수는 종로가 된다.\n",
    "def add_and_mul(a,b):\n",
    "    return a+b\n",
    "    return a*b #실행되지 않음\n",
    "    print('출력') #실행되지 않음\n",
    "\n",
    "result = add_and_mul(2,3)\n",
    "print(result)"
   ]
  },
  {
   "cell_type": "code",
   "execution_count": 34,
   "metadata": {},
   "outputs": [
    {
     "name": "stdout",
     "output_type": "stream",
     "text": [
      "나의 별명은 슈퍼맨입니다.\n",
      "나의 별명은 아이언맨입니다.\n",
      "나의 별명은 앤트맨입니다.\n"
     ]
    }
   ],
   "source": [
    "# return의 또 다른 쓰임새\n",
    "def say_nick(nick):\n",
    "    if nick =='바보':\n",
    "        return\n",
    "    print(f'나의 별명은 {nick}입니다.') #false 값 .. 입력값으로 바보라는 값이 들어올시 함수를 즉시 빠져나감\n",
    "\n",
    "say_nick('슈퍼맨')\n",
    "say_nick('아이언맨')\n",
    "say_nick('바보')\n",
    "say_nick('앤트맨')"
   ]
  },
  {
   "cell_type": "code",
   "execution_count": 37,
   "metadata": {},
   "outputs": [
    {
     "name": "stdout",
     "output_type": "stream",
     "text": [
      "나의 이름은 박웅용입니다.\n",
      "나이는27살입니다.\n",
      "남자입니다.\n",
      "국적은 한국입니다.\n",
      "나의 이름은 박응용입니다.\n",
      "나이는27살입니다.\n",
      "남자입니다.\n",
      "국적은 한국입니다.\n",
      "나의 이름은 박응용입니다.\n",
      "나이는27살입니다.\n",
      "여자입니다.\n",
      "국적은 한국입니다.\n"
     ]
    }
   ],
   "source": [
    "# 매개변수에 초깃값 미리 설정하기\n",
    "def say_myself(name, age, man = True,country = '한국'):\n",
    "    print(f'나의 이름은 {name}입니다.')\n",
    "    print(f'나이는{age}살입니다.')\n",
    "    if man:\n",
    "        print('남자입니다.')\n",
    "    else:\n",
    "        print('여자입니다.')\n",
    "    print(f'국적은 {country}입니다.')\n",
    "\n",
    "say_myself('박웅용',27)\n",
    "say_myself('박응용',27,True)\n",
    "say_myself('박응용',27,False)"
   ]
  },
  {
   "cell_type": "code",
   "execution_count": 39,
   "metadata": {},
   "outputs": [
    {
     "ename": "SyntaxError",
     "evalue": "invalid syntax (1177800288.py, line 2)",
     "output_type": "error",
     "traceback": [
      "\u001b[1;36m  Cell \u001b[1;32mIn[39], line 2\u001b[1;36m\u001b[0m\n\u001b[1;33m    가변 매개변수와 같이 쓸때면 (name, man = True, *age)로 작성\u001b[0m\n\u001b[1;37m       ^\u001b[0m\n\u001b[1;31mSyntaxError\u001b[0m\u001b[1;31m:\u001b[0m invalid syntax\n"
     ]
    }
   ],
   "source": [
    "# 매개변수에 초깃값 미리 설정시 중의할 점\n",
    "# 가변 매개변수와 같이 쓸때면 (name, man = True, *age)로 작성\n",
    "\n",
    "def say_myself(name, man = True, age):\n",
    "    print(f'나의 이름은 {name}입니다.')\n",
    "    print(f'나의 나이는 {age}입니다.')\n",
    "    if man:\n",
    "        print('남자입니다.')\n",
    "    else:\n",
    "        print('여자입니다.')"
   ]
  },
  {
   "cell_type": "code",
   "execution_count": 52,
   "metadata": {},
   "outputs": [
    {
     "name": "stdout",
     "output_type": "stream",
     "text": [
      "1\n"
     ]
    },
    {
     "ename": "UnboundLocalError",
     "evalue": "cannot access local variable 'z' where it is not associated with a value",
     "output_type": "error",
     "traceback": [
      "\u001b[1;31m---------------------------------------------------------------------------\u001b[0m",
      "\u001b[1;31mUnboundLocalError\u001b[0m                         Traceback (most recent call last)",
      "Cell \u001b[1;32mIn[52], line 13\u001b[0m\n\u001b[0;32m     11\u001b[0m     z\u001b[38;5;241m+\u001b[39m\u001b[38;5;241m=\u001b[39m\u001b[38;5;241m1\u001b[39m\n\u001b[0;32m     12\u001b[0m z1\u001b[38;5;241m=\u001b[39m\u001b[38;5;241m0\u001b[39m\n\u001b[1;32m---> 13\u001b[0m vartest(\u001b[38;5;241m3\u001b[39m) \u001b[38;5;66;03m#error가 아니다.\u001b[39;00m\n\u001b[0;32m     14\u001b[0m \u001b[38;5;28mprint\u001b[39m(z2)\n",
      "Cell \u001b[1;32mIn[52], line 11\u001b[0m, in \u001b[0;36mvartest\u001b[1;34m(z2)\u001b[0m\n\u001b[0;32m     10\u001b[0m \u001b[38;5;28;01mdef\u001b[39;00m \u001b[38;5;21mvartest\u001b[39m(z2):\n\u001b[1;32m---> 11\u001b[0m     z\u001b[38;5;241m+\u001b[39m\u001b[38;5;241m=\u001b[39m\u001b[38;5;241m1\u001b[39m\n",
      "\u001b[1;31mUnboundLocalError\u001b[0m: cannot access local variable 'z' where it is not associated with a value"
     ]
    }
   ],
   "source": [
    "# 함수 안에서 선언한 변수의 효력 범위\n",
    "# vartest.py\n",
    "a = 1\n",
    "def vartest(a): # 함수 안에서만 실행\n",
    "    a+=1 #a가 1일 경우 함수 안의 a는 2가 됨\n",
    "vartest(a) #a에 1이 들어감\n",
    "print(a) # 밖에 나와있는 함수 적용\n",
    "\n",
    "# vartest error.py\n",
    "def vartest(z2):\n",
    "    z+=1\n",
    "# z1=0\n",
    "vartest(3) #error가 아니다.\n",
    "print(z2) #error이다."
   ]
  },
  {
   "cell_type": "code",
   "execution_count": 55,
   "metadata": {},
   "outputs": [
    {
     "name": "stdout",
     "output_type": "stream",
     "text": [
      "2\n",
      "2\n"
     ]
    }
   ],
   "source": [
    "# 함수 안에서 함수 밖의 변수를 변경하는 방법(실무에서는 추천하지 않음)\n",
    "# 1. return시영힉;\n",
    "# vartest_return\n",
    "\n",
    "a = 1           # 함수 밖의 변수 a\n",
    "def vartest(a): # 함수 안의 변수 a\n",
    "    a+=1\n",
    "    return a\n",
    "a=vartest(a)    #a=2\n",
    "print(a)        #2\n",
    "\n",
    "# 2. global명령어 사용하기\n",
    "# vartest_global.py\n",
    "\n",
    "z = 1\n",
    "def vartest():\n",
    "    global z    # 함수 밖의 a변수를 가리킴\n",
    "    z = z+1\n",
    "vartest()\n",
    "print(z)        # 2"
   ]
  },
  {
   "cell_type": "code",
   "execution_count": 56,
   "metadata": {},
   "outputs": [
    {
     "name": "stdout",
     "output_type": "stream",
     "text": [
      "7\n"
     ]
    }
   ],
   "source": [
    "# lambda 예약어\n",
    "# 함수를 한줄로 간결하게 만들 때 사용하는 함수\n",
    "# 함수 이름 = lambda 매개변수1,매개변수2... : 매개변수를 이용한 표현식\n",
    "add = lambda a,b:a+b # add라는 람다 함수 생성\n",
    "result = add(3,4) # lambda사용시 ()사용\n",
    "print(result)"
   ]
  },
  {
   "cell_type": "code",
   "execution_count": 57,
   "metadata": {},
   "outputs": [
    {
     "name": "stdout",
     "output_type": "stream",
     "text": [
      "9\n"
     ]
    }
   ],
   "source": [
    "# 문제1\n",
    "# 괄호 안의 인자인 number1, number2를 입력값으로 받아 result= (num1+num2)를 수행하고,\n",
    "# 그의 결괏값 result를 반환한 후 종료하는 이름이 average라는 함수를 정의해보자.\n",
    "\n",
    "def average(num1, num2):\n",
    "    return num1 + num2\n",
    "\n",
    "result = average(5,4)\n",
    "print(result)"
   ]
  },
  {
   "cell_type": "code",
   "execution_count": 61,
   "metadata": {},
   "outputs": [
    {
     "name": "stdout",
     "output_type": "stream",
     "text": [
      "1\n",
      "2\n",
      "3\n"
     ]
    }
   ],
   "source": [
    "# 문제2\n",
    "# 다음과 같은 함수가 정의되어 있을 때, 다음 실행문의 결과를 예측해보자.\n",
    "\n",
    "def print_list(num_list):\n",
    "    for n in num_list:      \n",
    "        if(n != 0):\n",
    "            print(n)        # num_list 값이 0이 아니면 출력\n",
    "        else:\n",
    "            break           # 입력값이  0 이면 작동을 멈춤\n",
    "print_list([1,2,3,0])"
   ]
  },
  {
   "cell_type": "code",
   "execution_count": 203,
   "metadata": {},
   "outputs": [
    {
     "ename": "IndentationError",
     "evalue": "expected an indented block after function definition on line 9 (1886989926.py, line 23)",
     "output_type": "error",
     "traceback": [
      "\u001b[1;36m  Cell \u001b[1;32mIn[203], line 23\u001b[1;36m\u001b[0m\n\u001b[1;33m    def get_min_score(*args1):\u001b[0m\n\u001b[1;37m    ^\u001b[0m\n\u001b[1;31mIndentationError\u001b[0m\u001b[1;31m:\u001b[0m expected an indented block after function definition on line 9\n"
     ]
    }
   ],
   "source": [
    "# 문제3\n",
    "# 다음 소스 코드를 완성하여 가장 높은 점수가 출력되게 하는 get_max_score함수를 만드시오.\n",
    "\n",
    "korean, english, mathematics, science = [100, 86, 81, 91]\n",
    "\n",
    "# def get_max_score(*args):\n",
    "#     return max(args)   \n",
    "\n",
    "def get_max_score(*args):\n",
    "    # for item in args: \n",
    "    # # print('매개변수 길이:',len(args))\n",
    "    # # print('매개변수1:',args[0])\n",
    "    # # print('매개변수2', args[1])\n",
    "    # init1=0\n",
    "    # for item in args:\n",
    "    #     if init1 < item:\n",
    "    #         init1 = item\n",
    "    # return init1\n",
    "\n",
    "\n",
    "# get_max_score(korean, english, mathematics, science)\n",
    "\n",
    "\n",
    "    \n",
    "max_score = get_max_score(korean, english, mathematics, science)\n",
    "print(max_score)\n",
    "\n",
    "# print('높은 점수: %d' % max_score)\n",
    "# 높은 점수: 100\n",
    "\n",
    "# max_score = get_max_score(english, science)\n",
    "# print('높은 점수: %d' % max_score)\n",
    "# 높은 점수: 91"
   ]
  },
  {
   "cell_type": "code",
   "execution_count": 197,
   "metadata": {},
   "outputs": [
    {
     "name": "stdout",
     "output_type": "stream",
     "text": [
      "120\n"
     ]
    }
   ],
   "source": [
    "# 문제4\n",
    "# 양의 정수 n을 입력하면 1부터 n까지 곱해주는 factorial 함수를 만들어 보세요.\n",
    "# 출력 예시 -> x가 1일때 1, x가 2일때 2, x가 3일 때 6, x가 4일 때 24, ...\n",
    "\n",
    "\n",
    "def factorial(x):\n",
    "    result = 1\n",
    "    for i in range(1, x+1):\n",
    "        result *=i\n",
    "    return result\n",
    "\n",
    "result = factorial(5)\n",
    "print(result)\n",
    "    \n",
    "\n"
   ]
  },
  {
   "cell_type": "code",
   "execution_count": 212,
   "metadata": {},
   "outputs": [
    {
     "name": "stdout",
     "output_type": "stream",
     "text": [
      "81\n",
      "81\n"
     ]
    }
   ],
   "source": [
    "korean, english, mathematics, science = [100, 86, 81, 91]\n",
    "\n",
    "def get_min_score(*args):\n",
    "    init = 101\n",
    "    for i in args:\n",
    "        if init > i:\n",
    "            init = i\n",
    "    return init\n",
    "min_score = get_min_score(korean, english,mathematics, science)\n",
    "print(min_score)\n",
    "\n",
    "# 더 좋은 방법\n",
    "def get_min_score(*args):\n",
    "    init = args[0]\n",
    "    for i in args:\n",
    "        if init>i:\n",
    "            init =i\n",
    "    return init\n",
    "min_score = get_min_score(korean, english,mathematics, science)\n",
    "print(min_score)\n"
   ]
  },
  {
   "cell_type": "code",
   "execution_count": 3,
   "metadata": {},
   "outputs": [
    {
     "name": "stdout",
     "output_type": "stream",
     "text": [
      "춘천 까지의 금액은 50000 입니다\n"
     ]
    }
   ],
   "source": [
    "# 문제5 \n",
    "# 서울 남부터미널에서 춘천, 부산, 대구, 수원으로 가는 기차표를 예매하는 프로그램을 작성하려 한다.\n",
    "# 각 도시 당 50,000원, 30,000원, 10,000원, 2,000원의 비용이 든다.\n",
    "# 도시 이름을 입력하면 금액을 결정하고 출력해주는 함수를 작성해보자.\n",
    "\n",
    "\n",
    "def cost(city):\n",
    "    dic = {'춘천':50000, '부산':30000, '대구':10000, '수원':2000}\n",
    "    print(city, \"까지의 금액은\",dic[city],'입니다')\n",
    "   \n",
    "\n",
    "\n",
    "   # 코드 작성\n",
    "\n",
    "\n",
    "city = input('춘천(운임 : 5000원) / 부산(운임 : 30000원) / 대구(운임 : 10000원) / 수원(운임 : 2000원) \\n중 한곳을 입력하세요. ')\n",
    "cost(city)\n",
    "\n",
    "# city = input('춘천(운임 : 5000원) / 부산(운임 : 30000원) / 대구(운임 : 10000원) / 수원(운임 : 2000원) \\n중 한곳을 입력하세요. ')\n",
    "# cost(city)\n",
    "\n",
    "\n",
    "\n",
    "#춘천(운임 : 5000원) / 부산(운임 : 30000원) / 대구(운임 : 10000원) / 수원(운임 : 2000원) \n",
    "#중 한곳을 입력하세요.수원\n",
    "#수원 까지의 금액은 2000 입니다."
   ]
  },
  {
   "cell_type": "code",
   "execution_count": 1,
   "metadata": {},
   "outputs": [
    {
     "name": "stdout",
     "output_type": "stream",
     "text": [
      "출근이 불가합니다.\n",
      "출근 완료되었습니다.\n"
     ]
    }
   ],
   "source": [
    "# 문제6\n",
    "# 회사의 한 부서에서 출근 여부를 입력하는 프로그램을 만들려고 한다.\n",
    "# 출근한 사람이 본인의 이름을 입력하면 출근이 완료되었다고 출력해주는 함수를 작성해보자.\n",
    "def check(name):\n",
    "    list = ['suzi', 'jisu', 'jennie', 'rose', 'lisa']\n",
    "    # 코드 작성\n",
    "\n",
    "\n",
    "\n",
    "\n",
    "while(True):\n",
    "    name = input('이름을 입력하세요 : ')\n",
    "    check(name)\n",
    "    if name in list:\n",
    "        print('출근 완료')\n",
    "    elif name ==b:\n",
    "        break\n",
    "    else:\n",
    "        print('출근불가')\n",
    "        \n",
    "\n",
    "a = input('이름을 입력하세요 : ')\n",
    "print(a)\n",
    "        \n",
    "        \n",
    "\n",
    "# 이름을 입력하세요 : suzi\n",
    "\n",
    "#출근 완료#이되었습니다.\n",
    "\n",
    "#이름을 입력하세요 : jin\n",
    "#출근이 불가합니다."
   ]
  },
  {
   "cell_type": "code",
   "execution_count": null,
   "metadata": {},
   "outputs": [],
   "source": [
    "문제7\n",
    "사각형의 둘레를 구하는 함수를 작성해보고, 두변의 길이가 각각 3과 6인 사각형의 둘레를 출력해보자.\n",
    "\n",
    "def circle(a,b):\n",
    "    return a+b*2\n",
    "    # 코드 작성\n",
    "    pass\n",
    "\n",
    "print(circle(3,6))"
   ]
  }
 ],
 "metadata": {
  "kernelspec": {
   "display_name": "base",
   "language": "python",
   "name": "python3"
  },
  "language_info": {
   "codemirror_mode": {
    "name": "ipython",
    "version": 3
   },
   "file_extension": ".py",
   "mimetype": "text/x-python",
   "name": "python",
   "nbconvert_exporter": "python",
   "pygments_lexer": "ipython3",
   "version": "3.11.7"
  }
 },
 "nbformat": 4,
 "nbformat_minor": 2
}
