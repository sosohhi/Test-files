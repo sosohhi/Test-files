{
 "cells": [
  {
   "cell_type": "code",
   "execution_count": 6,
   "metadata": {},
   "outputs": [
    {
     "name": "stdout",
     "output_type": "stream",
     "text": [
      "lifeistoo short\n",
      "lifeistoo short\n",
      "lifeistoo short\n",
      "life is too short\n",
      "life,is,too short\n",
      "0 1 2 3 4 5 6 7 8 9 "
     ]
    }
   ],
   "source": [
    "# 사용자 입출력\n",
    "print(\"life\" \"is\" \"too short\")  # 1번\n",
    "print(\"life\"+\"is\"+\"too short\")  # 2번\n",
    "print('life''is''too short')    # 3번\n",
    "\n",
    "# 문자열 띄어쓰기는 쉼표로 한다.\n",
    "# sep매개변수의 값 변경하여 다른 문자를 넣을 수 있다.\n",
    "\n",
    "print('life','is','too','short')\n",
    "print('life','is','too short',sep =',')\n",
    "\n",
    "# 한줄에 결괏값 출력하기\n",
    "for i in range(10):\n",
    "    print(i, end = ' ')"
   ]
  }
 ],
 "metadata": {
  "kernelspec": {
   "display_name": "base",
   "language": "python",
   "name": "python3"
  },
  "language_info": {
   "codemirror_mode": {
    "name": "ipython",
    "version": 3
   },
   "file_extension": ".py",
   "mimetype": "text/x-python",
   "name": "python",
   "nbconvert_exporter": "python",
   "pygments_lexer": "ipython3",
   "version": "3.11.7"
  }
 },
 "nbformat": 4,
 "nbformat_minor": 2
}
