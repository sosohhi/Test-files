{
 "cells": [
  {
   "cell_type": "code",
   "execution_count": null,
   "metadata": {},
   "outputs": [],
   "source": [
    "# 클래스 학습\n",
    "\n",
    "# 기존의 add함수\n",
    "result1 = 0          # 계산기1\n",
    "def add1(num):\n",
    "    global result1\n",
    "    result1 += num   # 결괏값에 입력값 더하기\n",
    "    return result1   # 결괏값 리턴\n",
    "\n",
    "result2 = 0          # 계산기2\n",
    "def add2(num):\n",
    "    global result2\n",
    "    result2 +=num\n",
    "    return result2\n",
    "\n",
    "print(add1(3))  # ->3 \n",
    "print(add1(4))  # ->7\n",
    "print(add2(3))\n",
    "print(add2(7))\n",
    "\n",
    "\n",
    "\n"
   ]
  },
  {
   "cell_type": "code",
   "execution_count": null,
   "metadata": {},
   "outputs": [],
   "source": [
    "# calculator3.py\n",
    "class Calculator:\n",
    "    def __init__(self):     # 생성자(변수를 초기화)와 비슷한 역할\n",
    "        self.result = 0     # result변수를 0으로 초기화\n",
    "\n",
    "    def add(self, num):     # add 일반함수\n",
    "        self.result += num\n",
    "        return self.result\n",
    "\n",
    "\n",
    "\n",
    "cal1 = Calculator() # 객체 생성(실제 붕어빵)하여 cal1변수에 대입 (단독 호출 가능)\n",
    "cal2 = Calculator()\n",
    "\n",
    "# a = cal1.add() -> lass Calculator 안에 있는 add함수를 호출(객체 저장)\n",
    "print(cal1.add(3)) \n",
    "print(cal1.add(4))\n",
    "print(cal2.add(3))\n",
    "print(cal2.add(7))"
   ]
  },
  {
   "cell_type": "code",
   "execution_count": 1,
   "metadata": {},
   "outputs": [],
   "source": [
    "class Calculator:\n",
    "    def __init__(self):\n",
    "        self.result = 0\n",
    "    \n",
    "    def add(self, num):     # add 일반함수\n",
    "        self.result += num\n",
    "        return self.result\n",
    "    \n",
    "    def sub(self, num):     # sub 일반함수\n",
    "        self.result -=num\n",
    "        return self.result\n",
    "    \n",
    "cal1 = Calculator() #객체 생성하여 cal1변수에 대입"
   ]
  },
  {
   "cell_type": "code",
   "execution_count": 22,
   "metadata": {},
   "outputs": [
    {
     "name": "stdout",
     "output_type": "stream",
     "text": [
      "4\n",
      "2\n",
      "3\n",
      "6\n",
      "8\n",
      "2\n",
      "2.0\n"
     ]
    }
   ],
   "source": [
    "# 클래스 만들기 전 어떤 식으로 동작하게 할지 미리 구상\n",
    "\n",
    "class FourCal():\n",
    "    # 메소드들의 생성 순서는 상관없다.\n",
    "    def __init__ (self,first,second): #생성자\n",
    "        self.first = first\n",
    "        self.second = second\n",
    "\n",
    "    def setdata(self, first, second):\n",
    "        self.first = first      # self는 javascript의 this와 비슷하다.\n",
    "        self.second = second\n",
    "\n",
    "    def add(self):\n",
    "        result = self.first + self.second\n",
    "        return result\n",
    "    \n",
    "    def sub(self):\n",
    "        result = self.first - self.second\n",
    "        return result\n",
    "    \n",
    "    def mul(self):\n",
    "        result = self.first * self.second\n",
    "        return result\n",
    "    \n",
    "    def div(self):\n",
    "        result = self.first / self.second\n",
    "        return result\n",
    "    \n",
    "\n",
    "# a = FourCal()\n",
    "# print(type(a))\n",
    "\n",
    "a.setdata(4,2)\n",
    "print(a.first)\n",
    "print(a.second)\n",
    "FourCal.setdata(a,4,2)\n",
    "\n",
    "# # b = FourCal()\n",
    "b.setdata(3,7)\n",
    "print(b.first)\n",
    "\n",
    "# # a = FourCal()\n",
    "a.setdata(4,2)\n",
    "\n",
    "print(a.add())\n",
    "\n",
    "print(a.mul())\n",
    "print(a.sub())\n",
    "print(a.div())\n",
    "\n",
    "# 위와 동일한 결과 도출(사용빈도 낮음)\n",
    "a.setdata(4,2)\n",
    "FourCal.setdata(a,4,2)"
   ]
  },
  {
   "cell_type": "code",
   "execution_count": 21,
   "metadata": {},
   "outputs": [
    {
     "name": "stdout",
     "output_type": "stream",
     "text": [
      "4\n",
      "6\n"
     ]
    }
   ],
   "source": [
    "a = FourCal(4,2) # 생성자 init함수가 실행됨\n",
    "print(a.first)\n",
    "print(a.add())"
   ]
  }
 ],
 "metadata": {
  "kernelspec": {
   "display_name": "base",
   "language": "python",
   "name": "python3"
  },
  "language_info": {
   "codemirror_mode": {
    "name": "ipython",
    "version": 3
   },
   "file_extension": ".py",
   "mimetype": "text/x-python",
   "name": "python",
   "nbconvert_exporter": "python",
   "pygments_lexer": "ipython3",
   "version": "3.11.7"
  }
 },
 "nbformat": 4,
 "nbformat_minor": 2
}
