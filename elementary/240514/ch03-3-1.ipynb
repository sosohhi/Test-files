{
 "cells": [
  {
   "cell_type": "code",
   "execution_count": 11,
   "metadata": {},
   "outputs": [
    {
     "name": "stdout",
     "output_type": "stream",
     "text": [
      "*\n",
      "**\n",
      "***\n",
      "****\n",
      "*****\n"
     ]
    }
   ],
   "source": [
    "# for문 별 그리고 문제\n",
    "# 전제조건\n",
    "# *을 그리는 print함수는 무조건 1개만 되도록한다.\n",
    "# 문제1\n",
    "# for 문 혹은 이중 for 문을 이용해서 아래와 같은 별을 그리는 코드를 작성하시오.\n",
    "\n",
    "# *\n",
    "# **\n",
    "# ***\n",
    "# ****\n",
    "# *****\n",
    "\n",
    "y = \"*\"\n",
    "for x in y:\n",
    "    for j in range(1,6):\n",
    "        print(x*j, end='\\n')\n",
    "\n",
    "\n",
    "# 다른 방법\n",
    "# for i in range(5):\n",
    "#     print('*'*(i+1))\n",
    "\n",
    "# for i in range(1,6):\n",
    "#     for j in range(i):\n",
    "#         print(\"*\", end=\"\")\n",
    "#     print() #한 줄 띄우기\n",
    "        "
   ]
  },
  {
   "cell_type": "code",
   "execution_count": 85,
   "metadata": {},
   "outputs": [
    {
     "name": "stdout",
     "output_type": "stream",
     "text": [
      "    *\n",
      "   **\n",
      "  ***\n",
      " ****\n",
      "*****\n"
     ]
    }
   ],
   "source": [
    "# 문제2\n",
    "# for문 혹은 이중 for 문을 이용해서 아래와 같은 별을 그리는 코드를 작성하시오.\n",
    "#     *\n",
    "#    **\n",
    "#   ***\n",
    "#  ****\n",
    "# *****\n",
    "y = 5\n",
    "m='*'\n",
    "for x in range(y):\n",
    "    print(' '*(y-x-1)+m*(x+1))\n",
    " \n",
    "     \n",
    "   \n",
    "        \n",
    "        \n"
   ]
  },
  {
   "cell_type": "code",
   "execution_count": 23,
   "metadata": {},
   "outputs": [
    {
     "name": "stdout",
     "output_type": "stream",
     "text": [
      "*****\n",
      "****\n",
      "***\n",
      "**\n",
      "*\n",
      "\n"
     ]
    }
   ],
   "source": [
    "# 문제3\n",
    "# for문 혹은 이중 for 문을 이용해서 아래와 같은 별을 그리는 코드를 작성하시오.\n",
    "# *****\n",
    "# ****\n",
    "# ***\n",
    "# **\n",
    "# *\n",
    "\n",
    "y = 6\n",
    "m='*'\n",
    "for x in range(y):\n",
    "    for j in m:\n",
    "        print((y-(x+1))*j, end='\\n')\n",
    "\n",
    "# 다른 풀이법\n",
    "# for i in range(1,6):\n",
    "#     for j in range(6-i):\n",
    "#         print(\"*\", end=\"\")\n",
    "#     for j in range(i):\n",
    "#         print(\" \",end='')\n",
    "#     print()\n",
    "\n",
    "# for i in range(1,6):\n",
    "#     for j in range(6-i):\n",
    "#         print('*',end=\"\")\n",
    "#     print()"
   ]
  },
  {
   "cell_type": "code",
   "execution_count": 122,
   "metadata": {},
   "outputs": [
    {
     "name": "stdout",
     "output_type": "stream",
     "text": [
      "    *\n",
      "   ***\n",
      "  *****\n",
      " *******\n",
      "*********\n"
     ]
    }
   ],
   "source": [
    "# 문제4\n",
    "# for문 혹은 이중 for 문을 이용해서 아래와 같은 별을 그리는 코드를 작성하시오.\n",
    "#      *\n",
    "#     ***\n",
    "#    *****\n",
    "#   *******\n",
    "#  *********\n",
    "\n",
    "y = 5\n",
    "m='*'\n",
    "for x in range(y):\n",
    "    print(' '*(y-x-1)+m*(x+1)+x*j)\n",
    "\n",
    "# 다른 풀이\n",
    "# for i in range(1,6):\n",
    "#     for j in range(5-i): # 줄 라인 i에 따라 빈 공백 출력\n",
    "#         print(\" \", end=\"\")\n",
    "#     for j in range(2*i-1): #홀수 개수만큼 *출력\n",
    "#         print(\"*\", end ='')\n",
    "#     print()\n"
   ]
  },
  {
   "cell_type": "code",
   "execution_count": 229,
   "metadata": {},
   "outputs": [
    {
     "name": "stdout",
     "output_type": "stream",
     "text": [
      "40\n",
      "[37, 2, 43, 32, 11, 33]\n"
     ]
    }
   ],
   "source": [
    "# 문제5 \n",
    "# 로또번호 생성 프로그램 제작, 로또 생성 프로그램은 아래 조건을 만족해야 한다.\n",
    "# (1) 1~45 숫자 중 총 6개의 숫자가 나와야 한다.\n",
    "# (2) 중복된 숫자가 나와서는 안된다.\n",
    "\n",
    "\n",
    "\n",
    "import random\n",
    "\n",
    "print(random.randint(1,45))\n",
    "\n",
    "a = []\n",
    "for i in range(6):\n",
    "    j = random.randint(1,45) # 따로 선언\n",
    "    if j not in a: \n",
    "        a.append(j)\n",
    "print(a)\n",
    "\n",
    "# 중복제거 방법1\n",
    "# result = set(a) #set ..리스트의 중복값 제거 \n",
    "\n",
    "# print(result)\n",
    "\n",
    "# 중복제거 방법2\n",
    "while 1==1:\n",
    "    if len(a) ==6:\n",
    "        break\n",
    "    else:\n",
    "        for i in range(6):\n",
    "            a.append(random.randint(1,45))\n",
    "        a =list(set(a))\n",
    "    print(a)\n",
    "\n",
    "# 중복제거 방법3\n",
    "\n",
    "# result_1 = dict.fromkeys(a) #리스트 자료형을 이용해 중복 제거\n",
    "# print(result_1)\n",
    "# result2 = list(result_1) #리스트 자료형을 이용해 키값으로 변환된 것을 다시 리스트로 변환\n",
    "# print(result2)\n",
    "\n",
    "\n",
    "\n",
    "\n"
   ]
  },
  {
   "cell_type": "code",
   "execution_count": null,
   "metadata": {},
   "outputs": [],
   "source": []
  }
 ],
 "metadata": {
  "kernelspec": {
   "display_name": "base",
   "language": "python",
   "name": "python3"
  },
  "language_info": {
   "codemirror_mode": {
    "name": "ipython",
    "version": 3
   },
   "file_extension": ".py",
   "mimetype": "text/x-python",
   "name": "python",
   "nbconvert_exporter": "python",
   "pygments_lexer": "ipython3",
   "version": "3.11.7"
  }
 },
 "nbformat": 4,
 "nbformat_minor": 2
}
